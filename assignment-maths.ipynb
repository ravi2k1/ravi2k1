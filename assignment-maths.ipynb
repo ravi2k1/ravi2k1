{
 "cells": [
  {
   "cell_type": "code",
   "execution_count": 1,
   "metadata": {
    "_cell_guid": "b1076dfc-b9ad-4769-8c92-a6c4dae69d19",
    "_uuid": "8f2839f25d086af736a60e9eeb907d3b93b6e0e5"
   },
   "outputs": [
    {
     "name": "stdout",
     "output_type": "stream",
     "text": [
      "/kaggle/input/yellow_tripdata_2019-06.csv\n"
     ]
    }
   ],
   "source": [
    "# This Python 3 environment comes with many helpful analytics libraries installed\n",
    "# It is defined by the kaggle/python docker image: https://github.com/kaggle/docker-python\n",
    "# For example, here's several helpful packages to load in \n",
    "\n",
    "import numpy as np # linear algebra\n",
    "import pandas as pd # data processing, CSV file I/O (e.g. pd.read_csv)\n",
    "\n",
    "# Input data files are available in the \"../input/\" directory.\n",
    "# For example, running this (by clicking run or pressing Shift+Enter) will list all files under the input directory\n",
    "\n",
    "import os\n",
    "for dirname, _, filenames in os.walk('/kaggle/input'):\n",
    "    for filename in filenames:\n",
    "        print(os.path.join(dirname, filename))\n",
    "\n",
    "# Any results you write to the current directory are saved as output."
   ]
  },
  {
   "cell_type": "code",
   "execution_count": 2,
   "metadata": {
    "_cell_guid": "79c7e3d0-c299-4dcb-8224-4455121ee9b0",
    "_uuid": "d629ff2d2480ee46fbb7e2d37f6b5fab8052498a"
   },
   "outputs": [],
   "source": [
    "# Visualization\n",
    "import seaborn as sns\n",
    "import matplotlib.pyplot as plt\n",
    "%matplotlib inline\n",
    "import numpy as np # linear algebra\n",
    "import pandas as pd # data processing, CSV file I/O (e.g. pd.read_csv)\n",
    "import numpy as np\n",
    "import pandas as pd\n",
    "import seaborn as sns\n",
    "import matplotlib.pyplot as plt\n",
    "import datetime as dt\n",
    "from sklearn.linear_model import LinearRegression\n",
    "from sklearn.ensemble import RandomForestRegressor\n",
    "from xgboost import XGBRegressor\n",
    "from sklearn import metrics\n",
    "from sklearn.model_selection import train_test_split, GridSearchCV\n",
    "from haversine import haversine\n",
    "import statsmodels.formula.api as sm\n",
    "from sklearn.model_selection import learning_curve\n",
    "from sklearn.model_selection import ShuffleSplit\n",
    "import warnings; warnings.simplefilter('ignore')"
   ]
  },
  {
   "cell_type": "code",
   "execution_count": 3,
   "metadata": {},
   "outputs": [
    {
     "data": {
      "text/plain": [
       "(6941024, 18)"
      ]
     },
     "execution_count": 3,
     "metadata": {},
     "output_type": "execute_result"
    }
   ],
   "source": [
    "taxi_data = pd.read_csv('../input/yellow_tripdata_2019-06.csv')\n",
    "taxi_data = taxi_data.dropna()\n",
    "taxi_data.shape"
   ]
  },
  {
   "cell_type": "code",
   "execution_count": 4,
   "metadata": {},
   "outputs": [
    {
     "data": {
      "text/plain": [
       "(6865069, 18)"
      ]
     },
     "execution_count": 4,
     "metadata": {},
     "output_type": "execute_result"
    }
   ],
   "source": [
    "# Delete all the trip distance which are 0 and less\n",
    "taxi_data = taxi_data[taxi_data[\"trip_distance\"] > 0]\n",
    "taxi_data = taxi_data[taxi_data[\"fare_amount\"] > 0]\n",
    "taxi_data.shape"
   ]
  },
  {
   "cell_type": "code",
   "execution_count": 5,
   "metadata": {},
   "outputs": [
    {
     "data": {
      "text/html": [
       "<div>\n",
       "<style scoped>\n",
       "    .dataframe tbody tr th:only-of-type {\n",
       "        vertical-align: middle;\n",
       "    }\n",
       "\n",
       "    .dataframe tbody tr th {\n",
       "        vertical-align: top;\n",
       "    }\n",
       "\n",
       "    .dataframe thead th {\n",
       "        text-align: right;\n",
       "    }\n",
       "</style>\n",
       "<table border=\"1\" class=\"dataframe\">\n",
       "  <thead>\n",
       "    <tr style=\"text-align: right;\">\n",
       "      <th></th>\n",
       "      <th>VendorID</th>\n",
       "      <th>tpep_pickup_datetime</th>\n",
       "      <th>tpep_dropoff_datetime</th>\n",
       "      <th>passenger_count</th>\n",
       "      <th>trip_distance</th>\n",
       "      <th>RatecodeID</th>\n",
       "      <th>store_and_fwd_flag</th>\n",
       "      <th>PULocationID</th>\n",
       "      <th>DOLocationID</th>\n",
       "      <th>payment_type</th>\n",
       "      <th>fare_amount</th>\n",
       "      <th>extra</th>\n",
       "      <th>mta_tax</th>\n",
       "      <th>tip_amount</th>\n",
       "      <th>tolls_amount</th>\n",
       "      <th>improvement_surcharge</th>\n",
       "      <th>total_amount</th>\n",
       "      <th>congestion_surcharge</th>\n",
       "    </tr>\n",
       "  </thead>\n",
       "  <tbody>\n",
       "    <tr>\n",
       "      <th>2</th>\n",
       "      <td>1</td>\n",
       "      <td>2019-06-01 00:17:05</td>\n",
       "      <td>2019-06-01 00:36:38</td>\n",
       "      <td>1</td>\n",
       "      <td>4.4</td>\n",
       "      <td>1</td>\n",
       "      <td>N</td>\n",
       "      <td>74</td>\n",
       "      <td>7</td>\n",
       "      <td>2</td>\n",
       "      <td>17.5</td>\n",
       "      <td>0.5</td>\n",
       "      <td>0.5</td>\n",
       "      <td>0.00</td>\n",
       "      <td>0.0</td>\n",
       "      <td>0.3</td>\n",
       "      <td>18.80</td>\n",
       "      <td>0.0</td>\n",
       "    </tr>\n",
       "    <tr>\n",
       "      <th>3</th>\n",
       "      <td>1</td>\n",
       "      <td>2019-06-01 00:59:02</td>\n",
       "      <td>2019-06-01 00:59:12</td>\n",
       "      <td>0</td>\n",
       "      <td>0.8</td>\n",
       "      <td>1</td>\n",
       "      <td>N</td>\n",
       "      <td>145</td>\n",
       "      <td>145</td>\n",
       "      <td>2</td>\n",
       "      <td>2.5</td>\n",
       "      <td>1.0</td>\n",
       "      <td>0.5</td>\n",
       "      <td>0.00</td>\n",
       "      <td>0.0</td>\n",
       "      <td>0.3</td>\n",
       "      <td>4.30</td>\n",
       "      <td>0.0</td>\n",
       "    </tr>\n",
       "    <tr>\n",
       "      <th>4</th>\n",
       "      <td>1</td>\n",
       "      <td>2019-06-01 00:03:25</td>\n",
       "      <td>2019-06-01 00:15:42</td>\n",
       "      <td>1</td>\n",
       "      <td>1.7</td>\n",
       "      <td>1</td>\n",
       "      <td>N</td>\n",
       "      <td>113</td>\n",
       "      <td>148</td>\n",
       "      <td>1</td>\n",
       "      <td>9.5</td>\n",
       "      <td>3.0</td>\n",
       "      <td>0.5</td>\n",
       "      <td>2.65</td>\n",
       "      <td>0.0</td>\n",
       "      <td>0.3</td>\n",
       "      <td>15.95</td>\n",
       "      <td>2.5</td>\n",
       "    </tr>\n",
       "    <tr>\n",
       "      <th>5</th>\n",
       "      <td>1</td>\n",
       "      <td>2019-06-01 00:28:31</td>\n",
       "      <td>2019-06-01 00:39:23</td>\n",
       "      <td>2</td>\n",
       "      <td>1.6</td>\n",
       "      <td>1</td>\n",
       "      <td>N</td>\n",
       "      <td>79</td>\n",
       "      <td>125</td>\n",
       "      <td>1</td>\n",
       "      <td>9.5</td>\n",
       "      <td>3.0</td>\n",
       "      <td>0.5</td>\n",
       "      <td>1.00</td>\n",
       "      <td>0.0</td>\n",
       "      <td>0.3</td>\n",
       "      <td>14.30</td>\n",
       "      <td>2.5</td>\n",
       "    </tr>\n",
       "    <tr>\n",
       "      <th>6</th>\n",
       "      <td>1</td>\n",
       "      <td>2019-06-01 00:46:46</td>\n",
       "      <td>2019-06-01 00:50:55</td>\n",
       "      <td>4</td>\n",
       "      <td>0.6</td>\n",
       "      <td>1</td>\n",
       "      <td>N</td>\n",
       "      <td>211</td>\n",
       "      <td>148</td>\n",
       "      <td>2</td>\n",
       "      <td>4.5</td>\n",
       "      <td>3.0</td>\n",
       "      <td>0.5</td>\n",
       "      <td>0.00</td>\n",
       "      <td>0.0</td>\n",
       "      <td>0.3</td>\n",
       "      <td>8.30</td>\n",
       "      <td>2.5</td>\n",
       "    </tr>\n",
       "  </tbody>\n",
       "</table>\n",
       "</div>"
      ],
      "text/plain": [
       "   VendorID tpep_pickup_datetime tpep_dropoff_datetime  passenger_count  \\\n",
       "2         1  2019-06-01 00:17:05   2019-06-01 00:36:38                1   \n",
       "3         1  2019-06-01 00:59:02   2019-06-01 00:59:12                0   \n",
       "4         1  2019-06-01 00:03:25   2019-06-01 00:15:42                1   \n",
       "5         1  2019-06-01 00:28:31   2019-06-01 00:39:23                2   \n",
       "6         1  2019-06-01 00:46:46   2019-06-01 00:50:55                4   \n",
       "\n",
       "   trip_distance  RatecodeID store_and_fwd_flag  PULocationID  DOLocationID  \\\n",
       "2            4.4           1                  N            74             7   \n",
       "3            0.8           1                  N           145           145   \n",
       "4            1.7           1                  N           113           148   \n",
       "5            1.6           1                  N            79           125   \n",
       "6            0.6           1                  N           211           148   \n",
       "\n",
       "   payment_type  fare_amount  extra  mta_tax  tip_amount  tolls_amount  \\\n",
       "2             2         17.5    0.5      0.5        0.00           0.0   \n",
       "3             2          2.5    1.0      0.5        0.00           0.0   \n",
       "4             1          9.5    3.0      0.5        2.65           0.0   \n",
       "5             1          9.5    3.0      0.5        1.00           0.0   \n",
       "6             2          4.5    3.0      0.5        0.00           0.0   \n",
       "\n",
       "   improvement_surcharge  total_amount  congestion_surcharge  \n",
       "2                    0.3         18.80                   0.0  \n",
       "3                    0.3          4.30                   0.0  \n",
       "4                    0.3         15.95                   2.5  \n",
       "5                    0.3         14.30                   2.5  \n",
       "6                    0.3          8.30                   2.5  "
      ]
     },
     "execution_count": 5,
     "metadata": {},
     "output_type": "execute_result"
    }
   ],
   "source": [
    "taxi_data.head()"
   ]
  },
  {
   "cell_type": "code",
   "execution_count": 6,
   "metadata": {},
   "outputs": [
    {
     "data": {
      "text/html": [
       "<div>\n",
       "<style scoped>\n",
       "    .dataframe tbody tr th:only-of-type {\n",
       "        vertical-align: middle;\n",
       "    }\n",
       "\n",
       "    .dataframe tbody tr th {\n",
       "        vertical-align: top;\n",
       "    }\n",
       "\n",
       "    .dataframe thead th {\n",
       "        text-align: right;\n",
       "    }\n",
       "</style>\n",
       "<table border=\"1\" class=\"dataframe\">\n",
       "  <thead>\n",
       "    <tr style=\"text-align: right;\">\n",
       "      <th></th>\n",
       "      <th>tpep_pickup_datetime</th>\n",
       "      <th>tpep_dropoff_datetime</th>\n",
       "      <th>trip_distance</th>\n",
       "      <th>fare_amount</th>\n",
       "    </tr>\n",
       "  </thead>\n",
       "  <tbody>\n",
       "    <tr>\n",
       "      <th>2</th>\n",
       "      <td>2019-06-01 00:17:05</td>\n",
       "      <td>2019-06-01 00:36:38</td>\n",
       "      <td>4.4</td>\n",
       "      <td>17.5</td>\n",
       "    </tr>\n",
       "    <tr>\n",
       "      <th>3</th>\n",
       "      <td>2019-06-01 00:59:02</td>\n",
       "      <td>2019-06-01 00:59:12</td>\n",
       "      <td>0.8</td>\n",
       "      <td>2.5</td>\n",
       "    </tr>\n",
       "    <tr>\n",
       "      <th>4</th>\n",
       "      <td>2019-06-01 00:03:25</td>\n",
       "      <td>2019-06-01 00:15:42</td>\n",
       "      <td>1.7</td>\n",
       "      <td>9.5</td>\n",
       "    </tr>\n",
       "    <tr>\n",
       "      <th>5</th>\n",
       "      <td>2019-06-01 00:28:31</td>\n",
       "      <td>2019-06-01 00:39:23</td>\n",
       "      <td>1.6</td>\n",
       "      <td>9.5</td>\n",
       "    </tr>\n",
       "    <tr>\n",
       "      <th>6</th>\n",
       "      <td>2019-06-01 00:46:46</td>\n",
       "      <td>2019-06-01 00:50:55</td>\n",
       "      <td>0.6</td>\n",
       "      <td>4.5</td>\n",
       "    </tr>\n",
       "  </tbody>\n",
       "</table>\n",
       "</div>"
      ],
      "text/plain": [
       "  tpep_pickup_datetime tpep_dropoff_datetime  trip_distance  fare_amount\n",
       "2  2019-06-01 00:17:05   2019-06-01 00:36:38            4.4         17.5\n",
       "3  2019-06-01 00:59:02   2019-06-01 00:59:12            0.8          2.5\n",
       "4  2019-06-01 00:03:25   2019-06-01 00:15:42            1.7          9.5\n",
       "5  2019-06-01 00:28:31   2019-06-01 00:39:23            1.6          9.5\n",
       "6  2019-06-01 00:46:46   2019-06-01 00:50:55            0.6          4.5"
      ]
     },
     "execution_count": 6,
     "metadata": {},
     "output_type": "execute_result"
    }
   ],
   "source": [
    "cols = [1,2,4,10]\n",
    "taxi_data_final = taxi_data[taxi_data.columns[cols]]\n",
    "taxi_data_final.head()"
   ]
  },
  {
   "cell_type": "code",
   "execution_count": 7,
   "metadata": {},
   "outputs": [],
   "source": [
    "#taxi_data_final['Travel_time'] = pd.to_datetime(taxi_data_final['Travel_time'], format='%H:%M')\n",
    "taxi_data_final['tpep_pickup_datetime'] = pd.to_datetime(taxi_data_final['tpep_pickup_datetime'], format='%Y-%m-%d %H:%M')\n",
    "taxi_data_final['tpep_dropoff_datetime'] = pd.to_datetime(taxi_data_final['tpep_dropoff_datetime'], format='%Y-%m-%d %H:%M')\n"
   ]
  },
  {
   "cell_type": "code",
   "execution_count": 8,
   "metadata": {},
   "outputs": [
    {
     "data": {
      "text/plain": [
       "(6865069, 4)"
      ]
     },
     "execution_count": 8,
     "metadata": {},
     "output_type": "execute_result"
    }
   ],
   "source": [
    "taxi_data_final.head()\n",
    "\n",
    "taxi_data_final.shape"
   ]
  },
  {
   "cell_type": "code",
   "execution_count": 9,
   "metadata": {},
   "outputs": [],
   "source": [
    "# Get the travel time\n",
    "from datetime import datetime\n",
    "taxi_data_final['Travel_time'] = taxi_data_final['tpep_dropoff_datetime'] - taxi_data_final['tpep_pickup_datetime']\n",
    "\n",
    "taxi_data_final[\"Travel_time\"] = pd.to_numeric(taxi_data_final['Travel_time'].dt.components[\"minutes\"], downcast = 'integer')"
   ]
  },
  {
   "cell_type": "code",
   "execution_count": 10,
   "metadata": {},
   "outputs": [
    {
     "data": {
      "text/html": [
       "<div>\n",
       "<style scoped>\n",
       "    .dataframe tbody tr th:only-of-type {\n",
       "        vertical-align: middle;\n",
       "    }\n",
       "\n",
       "    .dataframe tbody tr th {\n",
       "        vertical-align: top;\n",
       "    }\n",
       "\n",
       "    .dataframe thead th {\n",
       "        text-align: right;\n",
       "    }\n",
       "</style>\n",
       "<table border=\"1\" class=\"dataframe\">\n",
       "  <thead>\n",
       "    <tr style=\"text-align: right;\">\n",
       "      <th></th>\n",
       "      <th>tpep_pickup_datetime</th>\n",
       "      <th>tpep_dropoff_datetime</th>\n",
       "      <th>trip_distance</th>\n",
       "      <th>fare_amount</th>\n",
       "      <th>Travel_time</th>\n",
       "    </tr>\n",
       "  </thead>\n",
       "  <tbody>\n",
       "    <tr>\n",
       "      <th>2</th>\n",
       "      <td>2019-06-01 00:17:05</td>\n",
       "      <td>2019-06-01 00:36:38</td>\n",
       "      <td>4.4</td>\n",
       "      <td>17.5</td>\n",
       "      <td>19</td>\n",
       "    </tr>\n",
       "    <tr>\n",
       "      <th>3</th>\n",
       "      <td>2019-06-01 00:59:02</td>\n",
       "      <td>2019-06-01 00:59:12</td>\n",
       "      <td>0.8</td>\n",
       "      <td>2.5</td>\n",
       "      <td>0</td>\n",
       "    </tr>\n",
       "    <tr>\n",
       "      <th>4</th>\n",
       "      <td>2019-06-01 00:03:25</td>\n",
       "      <td>2019-06-01 00:15:42</td>\n",
       "      <td>1.7</td>\n",
       "      <td>9.5</td>\n",
       "      <td>12</td>\n",
       "    </tr>\n",
       "    <tr>\n",
       "      <th>5</th>\n",
       "      <td>2019-06-01 00:28:31</td>\n",
       "      <td>2019-06-01 00:39:23</td>\n",
       "      <td>1.6</td>\n",
       "      <td>9.5</td>\n",
       "      <td>10</td>\n",
       "    </tr>\n",
       "    <tr>\n",
       "      <th>6</th>\n",
       "      <td>2019-06-01 00:46:46</td>\n",
       "      <td>2019-06-01 00:50:55</td>\n",
       "      <td>0.6</td>\n",
       "      <td>4.5</td>\n",
       "      <td>4</td>\n",
       "    </tr>\n",
       "  </tbody>\n",
       "</table>\n",
       "</div>"
      ],
      "text/plain": [
       "  tpep_pickup_datetime tpep_dropoff_datetime  trip_distance  fare_amount  \\\n",
       "2  2019-06-01 00:17:05   2019-06-01 00:36:38            4.4         17.5   \n",
       "3  2019-06-01 00:59:02   2019-06-01 00:59:12            0.8          2.5   \n",
       "4  2019-06-01 00:03:25   2019-06-01 00:15:42            1.7          9.5   \n",
       "5  2019-06-01 00:28:31   2019-06-01 00:39:23            1.6          9.5   \n",
       "6  2019-06-01 00:46:46   2019-06-01 00:50:55            0.6          4.5   \n",
       "\n",
       "   Travel_time  \n",
       "2           19  \n",
       "3            0  \n",
       "4           12  \n",
       "5           10  \n",
       "6            4  "
      ]
     },
     "execution_count": 10,
     "metadata": {},
     "output_type": "execute_result"
    }
   ],
   "source": [
    "taxi_data_final.head()"
   ]
  },
  {
   "cell_type": "code",
   "execution_count": 11,
   "metadata": {},
   "outputs": [
    {
     "data": {
      "text/html": [
       "<div>\n",
       "<style scoped>\n",
       "    .dataframe tbody tr th:only-of-type {\n",
       "        vertical-align: middle;\n",
       "    }\n",
       "\n",
       "    .dataframe tbody tr th {\n",
       "        vertical-align: top;\n",
       "    }\n",
       "\n",
       "    .dataframe thead th {\n",
       "        text-align: right;\n",
       "    }\n",
       "</style>\n",
       "<table border=\"1\" class=\"dataframe\">\n",
       "  <thead>\n",
       "    <tr style=\"text-align: right;\">\n",
       "      <th></th>\n",
       "      <th>tpep_pickup_datetime</th>\n",
       "      <th>tpep_dropoff_datetime</th>\n",
       "      <th>trip_distance</th>\n",
       "      <th>fare_amount</th>\n",
       "      <th>Travel_time</th>\n",
       "      <th>weekday</th>\n",
       "    </tr>\n",
       "  </thead>\n",
       "  <tbody>\n",
       "    <tr>\n",
       "      <th>2</th>\n",
       "      <td>2019-06-01 00:17:05</td>\n",
       "      <td>2019-06-01 00:36:38</td>\n",
       "      <td>4.4</td>\n",
       "      <td>17.5</td>\n",
       "      <td>19</td>\n",
       "      <td>5</td>\n",
       "    </tr>\n",
       "    <tr>\n",
       "      <th>3</th>\n",
       "      <td>2019-06-01 00:59:02</td>\n",
       "      <td>2019-06-01 00:59:12</td>\n",
       "      <td>0.8</td>\n",
       "      <td>2.5</td>\n",
       "      <td>0</td>\n",
       "      <td>5</td>\n",
       "    </tr>\n",
       "    <tr>\n",
       "      <th>4</th>\n",
       "      <td>2019-06-01 00:03:25</td>\n",
       "      <td>2019-06-01 00:15:42</td>\n",
       "      <td>1.7</td>\n",
       "      <td>9.5</td>\n",
       "      <td>12</td>\n",
       "      <td>5</td>\n",
       "    </tr>\n",
       "    <tr>\n",
       "      <th>5</th>\n",
       "      <td>2019-06-01 00:28:31</td>\n",
       "      <td>2019-06-01 00:39:23</td>\n",
       "      <td>1.6</td>\n",
       "      <td>9.5</td>\n",
       "      <td>10</td>\n",
       "      <td>5</td>\n",
       "    </tr>\n",
       "    <tr>\n",
       "      <th>6</th>\n",
       "      <td>2019-06-01 00:46:46</td>\n",
       "      <td>2019-06-01 00:50:55</td>\n",
       "      <td>0.6</td>\n",
       "      <td>4.5</td>\n",
       "      <td>4</td>\n",
       "      <td>5</td>\n",
       "    </tr>\n",
       "  </tbody>\n",
       "</table>\n",
       "</div>"
      ],
      "text/plain": [
       "  tpep_pickup_datetime tpep_dropoff_datetime  trip_distance  fare_amount  \\\n",
       "2  2019-06-01 00:17:05   2019-06-01 00:36:38            4.4         17.5   \n",
       "3  2019-06-01 00:59:02   2019-06-01 00:59:12            0.8          2.5   \n",
       "4  2019-06-01 00:03:25   2019-06-01 00:15:42            1.7          9.5   \n",
       "5  2019-06-01 00:28:31   2019-06-01 00:39:23            1.6          9.5   \n",
       "6  2019-06-01 00:46:46   2019-06-01 00:50:55            0.6          4.5   \n",
       "\n",
       "   Travel_time  weekday  \n",
       "2           19        5  \n",
       "3            0        5  \n",
       "4           12        5  \n",
       "5           10        5  \n",
       "6            4        5  "
      ]
     },
     "execution_count": 11,
     "metadata": {},
     "output_type": "execute_result"
    }
   ],
   "source": [
    "taxi_data_final['weekday'] = taxi_data_final[\"tpep_pickup_datetime\"].dt.dayofweek\n",
    "taxi_data_final.head()"
   ]
  },
  {
   "cell_type": "code",
   "execution_count": 12,
   "metadata": {},
   "outputs": [],
   "source": [
    "taxi_data_final.loc[taxi_data_final['weekday'] == 0, 'Day'] = \"Monday\"\n",
    "taxi_data_final.loc[taxi_data_final['weekday'] == 1, 'Day'] = \"Tuesday\"\n",
    "taxi_data_final.loc[taxi_data_final['weekday'] == 2, 'Day'] = \"Wednesday\"\n",
    "taxi_data_final.loc[taxi_data_final['weekday'] == 3, 'Day'] = \"Thursday\"\n",
    "taxi_data_final.loc[taxi_data_final['weekday'] == 4, 'Day'] = \"Friday\"\n",
    "taxi_data_final.loc[taxi_data_final['weekday'] == 5, 'Day'] = \"Saturday\"\n",
    "taxi_data_final.loc[taxi_data_final['weekday'] == 6, 'Day'] = \"Sunday\""
   ]
  },
  {
   "cell_type": "code",
   "execution_count": 13,
   "metadata": {},
   "outputs": [
    {
     "data": {
      "text/html": [
       "<div>\n",
       "<style scoped>\n",
       "    .dataframe tbody tr th:only-of-type {\n",
       "        vertical-align: middle;\n",
       "    }\n",
       "\n",
       "    .dataframe tbody tr th {\n",
       "        vertical-align: top;\n",
       "    }\n",
       "\n",
       "    .dataframe thead th {\n",
       "        text-align: right;\n",
       "    }\n",
       "</style>\n",
       "<table border=\"1\" class=\"dataframe\">\n",
       "  <thead>\n",
       "    <tr style=\"text-align: right;\">\n",
       "      <th></th>\n",
       "      <th>tpep_pickup_datetime</th>\n",
       "      <th>tpep_dropoff_datetime</th>\n",
       "      <th>trip_distance</th>\n",
       "      <th>fare_amount</th>\n",
       "      <th>Travel_time</th>\n",
       "      <th>weekday</th>\n",
       "      <th>Day</th>\n",
       "    </tr>\n",
       "  </thead>\n",
       "  <tbody>\n",
       "    <tr>\n",
       "      <th>2</th>\n",
       "      <td>2019-06-01 00:17:05</td>\n",
       "      <td>2019-06-01 00:36:38</td>\n",
       "      <td>4.4</td>\n",
       "      <td>17.5</td>\n",
       "      <td>19</td>\n",
       "      <td>5</td>\n",
       "      <td>Saturday</td>\n",
       "    </tr>\n",
       "    <tr>\n",
       "      <th>3</th>\n",
       "      <td>2019-06-01 00:59:02</td>\n",
       "      <td>2019-06-01 00:59:12</td>\n",
       "      <td>0.8</td>\n",
       "      <td>2.5</td>\n",
       "      <td>0</td>\n",
       "      <td>5</td>\n",
       "      <td>Saturday</td>\n",
       "    </tr>\n",
       "    <tr>\n",
       "      <th>4</th>\n",
       "      <td>2019-06-01 00:03:25</td>\n",
       "      <td>2019-06-01 00:15:42</td>\n",
       "      <td>1.7</td>\n",
       "      <td>9.5</td>\n",
       "      <td>12</td>\n",
       "      <td>5</td>\n",
       "      <td>Saturday</td>\n",
       "    </tr>\n",
       "    <tr>\n",
       "      <th>5</th>\n",
       "      <td>2019-06-01 00:28:31</td>\n",
       "      <td>2019-06-01 00:39:23</td>\n",
       "      <td>1.6</td>\n",
       "      <td>9.5</td>\n",
       "      <td>10</td>\n",
       "      <td>5</td>\n",
       "      <td>Saturday</td>\n",
       "    </tr>\n",
       "    <tr>\n",
       "      <th>6</th>\n",
       "      <td>2019-06-01 00:46:46</td>\n",
       "      <td>2019-06-01 00:50:55</td>\n",
       "      <td>0.6</td>\n",
       "      <td>4.5</td>\n",
       "      <td>4</td>\n",
       "      <td>5</td>\n",
       "      <td>Saturday</td>\n",
       "    </tr>\n",
       "  </tbody>\n",
       "</table>\n",
       "</div>"
      ],
      "text/plain": [
       "  tpep_pickup_datetime tpep_dropoff_datetime  trip_distance  fare_amount  \\\n",
       "2  2019-06-01 00:17:05   2019-06-01 00:36:38            4.4         17.5   \n",
       "3  2019-06-01 00:59:02   2019-06-01 00:59:12            0.8          2.5   \n",
       "4  2019-06-01 00:03:25   2019-06-01 00:15:42            1.7          9.5   \n",
       "5  2019-06-01 00:28:31   2019-06-01 00:39:23            1.6          9.5   \n",
       "6  2019-06-01 00:46:46   2019-06-01 00:50:55            0.6          4.5   \n",
       "\n",
       "   Travel_time  weekday       Day  \n",
       "2           19        5  Saturday  \n",
       "3            0        5  Saturday  \n",
       "4           12        5  Saturday  \n",
       "5           10        5  Saturday  \n",
       "6            4        5  Saturday  "
      ]
     },
     "execution_count": 13,
     "metadata": {},
     "output_type": "execute_result"
    }
   ],
   "source": [
    "taxi_data_final.head()"
   ]
  },
  {
   "cell_type": "code",
   "execution_count": 14,
   "metadata": {},
   "outputs": [
    {
     "data": {
      "text/html": [
       "<div>\n",
       "<style scoped>\n",
       "    .dataframe tbody tr th:only-of-type {\n",
       "        vertical-align: middle;\n",
       "    }\n",
       "\n",
       "    .dataframe tbody tr th {\n",
       "        vertical-align: top;\n",
       "    }\n",
       "\n",
       "    .dataframe thead th {\n",
       "        text-align: right;\n",
       "    }\n",
       "</style>\n",
       "<table border=\"1\" class=\"dataframe\">\n",
       "  <thead>\n",
       "    <tr style=\"text-align: right;\">\n",
       "      <th></th>\n",
       "      <th>tpep_pickup_datetime</th>\n",
       "      <th>tpep_dropoff_datetime</th>\n",
       "      <th>trip_distance</th>\n",
       "      <th>fare_amount</th>\n",
       "      <th>Travel_time</th>\n",
       "      <th>weekday</th>\n",
       "      <th>Day</th>\n",
       "      <th>TimeofDay</th>\n",
       "      <th>HourofDay</th>\n",
       "    </tr>\n",
       "  </thead>\n",
       "  <tbody>\n",
       "    <tr>\n",
       "      <th>2</th>\n",
       "      <td>2019-06-01 00:17:05</td>\n",
       "      <td>2019-06-01 00:36:38</td>\n",
       "      <td>4.4</td>\n",
       "      <td>17.5</td>\n",
       "      <td>19</td>\n",
       "      <td>5</td>\n",
       "      <td>Saturday</td>\n",
       "      <td>0</td>\n",
       "      <td>Night</td>\n",
       "    </tr>\n",
       "    <tr>\n",
       "      <th>3</th>\n",
       "      <td>2019-06-01 00:59:02</td>\n",
       "      <td>2019-06-01 00:59:12</td>\n",
       "      <td>0.8</td>\n",
       "      <td>2.5</td>\n",
       "      <td>0</td>\n",
       "      <td>5</td>\n",
       "      <td>Saturday</td>\n",
       "      <td>0</td>\n",
       "      <td>Night</td>\n",
       "    </tr>\n",
       "    <tr>\n",
       "      <th>4</th>\n",
       "      <td>2019-06-01 00:03:25</td>\n",
       "      <td>2019-06-01 00:15:42</td>\n",
       "      <td>1.7</td>\n",
       "      <td>9.5</td>\n",
       "      <td>12</td>\n",
       "      <td>5</td>\n",
       "      <td>Saturday</td>\n",
       "      <td>0</td>\n",
       "      <td>Night</td>\n",
       "    </tr>\n",
       "    <tr>\n",
       "      <th>5</th>\n",
       "      <td>2019-06-01 00:28:31</td>\n",
       "      <td>2019-06-01 00:39:23</td>\n",
       "      <td>1.6</td>\n",
       "      <td>9.5</td>\n",
       "      <td>10</td>\n",
       "      <td>5</td>\n",
       "      <td>Saturday</td>\n",
       "      <td>0</td>\n",
       "      <td>Night</td>\n",
       "    </tr>\n",
       "    <tr>\n",
       "      <th>6</th>\n",
       "      <td>2019-06-01 00:46:46</td>\n",
       "      <td>2019-06-01 00:50:55</td>\n",
       "      <td>0.6</td>\n",
       "      <td>4.5</td>\n",
       "      <td>4</td>\n",
       "      <td>5</td>\n",
       "      <td>Saturday</td>\n",
       "      <td>0</td>\n",
       "      <td>Night</td>\n",
       "    </tr>\n",
       "  </tbody>\n",
       "</table>\n",
       "</div>"
      ],
      "text/plain": [
       "  tpep_pickup_datetime tpep_dropoff_datetime  trip_distance  fare_amount  \\\n",
       "2  2019-06-01 00:17:05   2019-06-01 00:36:38            4.4         17.5   \n",
       "3  2019-06-01 00:59:02   2019-06-01 00:59:12            0.8          2.5   \n",
       "4  2019-06-01 00:03:25   2019-06-01 00:15:42            1.7          9.5   \n",
       "5  2019-06-01 00:28:31   2019-06-01 00:39:23            1.6          9.5   \n",
       "6  2019-06-01 00:46:46   2019-06-01 00:50:55            0.6          4.5   \n",
       "\n",
       "   Travel_time  weekday       Day  TimeofDay HourofDay  \n",
       "2           19        5  Saturday          0     Night  \n",
       "3            0        5  Saturday          0     Night  \n",
       "4           12        5  Saturday          0     Night  \n",
       "5           10        5  Saturday          0     Night  \n",
       "6            4        5  Saturday          0     Night  "
      ]
     },
     "execution_count": 14,
     "metadata": {},
     "output_type": "execute_result"
    }
   ],
   "source": [
    "#taxi_data.loc[taxi_data['tpep_pickup_datetime'].dt.hour >= 5, 'TimeofDay'] = 'Morning'\n",
    "#taxi_data['TimeofDay'] = taxi_data['tpep_pickup_datetime'].dt.hour\n",
    "\n",
    "taxi_data_final['TimeofDay'] = taxi_data_final['tpep_pickup_datetime'].dt.hour\n",
    "\n",
    "taxi_data_final[\"HourofDay\"] = np.where(((taxi_data_final.TimeofDay >= 3) & ((taxi_data_final.TimeofDay) <= 7)), \"EarlyMorning\",\n",
    "                                np.where(((taxi_data_final.TimeofDay >= 8) & ((taxi_data_final.TimeofDay) <= 11)), \"Morning\",\n",
    "                                 np.where(((taxi_data_final.TimeofDay >= 12) & ((taxi_data_final.TimeofDay) <= 16)), \"Noon\",\n",
    "                                   np.where(((taxi_data_final.TimeofDay >= 17) & ((taxi_data_final.TimeofDay) <= 21)), \"Evening\",'Night'))))\n",
    "                                    \n",
    "taxi_data_final.head()"
   ]
  },
  {
   "cell_type": "code",
   "execution_count": 15,
   "metadata": {},
   "outputs": [
    {
     "data": {
      "text/html": [
       "<div>\n",
       "<style scoped>\n",
       "    .dataframe tbody tr th:only-of-type {\n",
       "        vertical-align: middle;\n",
       "    }\n",
       "\n",
       "    .dataframe tbody tr th {\n",
       "        vertical-align: top;\n",
       "    }\n",
       "\n",
       "    .dataframe thead th {\n",
       "        text-align: right;\n",
       "    }\n",
       "</style>\n",
       "<table border=\"1\" class=\"dataframe\">\n",
       "  <thead>\n",
       "    <tr style=\"text-align: right;\">\n",
       "      <th></th>\n",
       "      <th>trip_distance</th>\n",
       "      <th>fare_amount</th>\n",
       "      <th>Travel_time</th>\n",
       "      <th>Day</th>\n",
       "      <th>HourofDay</th>\n",
       "    </tr>\n",
       "  </thead>\n",
       "  <tbody>\n",
       "    <tr>\n",
       "      <th>2</th>\n",
       "      <td>4.4</td>\n",
       "      <td>17.5</td>\n",
       "      <td>19</td>\n",
       "      <td>Saturday</td>\n",
       "      <td>Night</td>\n",
       "    </tr>\n",
       "    <tr>\n",
       "      <th>3</th>\n",
       "      <td>0.8</td>\n",
       "      <td>2.5</td>\n",
       "      <td>0</td>\n",
       "      <td>Saturday</td>\n",
       "      <td>Night</td>\n",
       "    </tr>\n",
       "    <tr>\n",
       "      <th>4</th>\n",
       "      <td>1.7</td>\n",
       "      <td>9.5</td>\n",
       "      <td>12</td>\n",
       "      <td>Saturday</td>\n",
       "      <td>Night</td>\n",
       "    </tr>\n",
       "    <tr>\n",
       "      <th>5</th>\n",
       "      <td>1.6</td>\n",
       "      <td>9.5</td>\n",
       "      <td>10</td>\n",
       "      <td>Saturday</td>\n",
       "      <td>Night</td>\n",
       "    </tr>\n",
       "    <tr>\n",
       "      <th>6</th>\n",
       "      <td>0.6</td>\n",
       "      <td>4.5</td>\n",
       "      <td>4</td>\n",
       "      <td>Saturday</td>\n",
       "      <td>Night</td>\n",
       "    </tr>\n",
       "  </tbody>\n",
       "</table>\n",
       "</div>"
      ],
      "text/plain": [
       "   trip_distance  fare_amount  Travel_time       Day HourofDay\n",
       "2            4.4         17.5           19  Saturday     Night\n",
       "3            0.8          2.5            0  Saturday     Night\n",
       "4            1.7          9.5           12  Saturday     Night\n",
       "5            1.6          9.5           10  Saturday     Night\n",
       "6            0.6          4.5            4  Saturday     Night"
      ]
     },
     "execution_count": 15,
     "metadata": {},
     "output_type": "execute_result"
    }
   ],
   "source": [
    "# Now for modeling we will only consider the below columns\n",
    "cols = [2,3,4,6,8]\n",
    "model_data = taxi_data_final.copy()\n",
    "model_data = model_data[model_data.columns[cols]]\n",
    "\n",
    "model_data.head()"
   ]
  },
  {
   "cell_type": "code",
   "execution_count": 16,
   "metadata": {},
   "outputs": [],
   "source": [
    "#######################################################Exploratory Data Analysis#########################################################################"
   ]
  },
  {
   "cell_type": "code",
   "execution_count": 17,
   "metadata": {},
   "outputs": [
    {
     "data": {
      "image/png": "[encoded data removed]",
      "text/plain": [
       "<Figure size 432x288 with 1 Axes>"
      ]
     },
     "metadata": {
      "needs_background": "light"
     },
     "output_type": "display_data"
    }
   ],
   "source": [
    "# View the distribution of Travel time\n",
    "\n",
    "nbins=50\n",
    "nbins,plt.hist(model_data['Travel_time'],nbins,facecolor='blue')\n",
    "plt.show()\n",
    "\n",
    "# We observe significant number of outliers"
   ]
  },
  {
   "cell_type": "code",
   "execution_count": 18,
   "metadata": {},
   "outputs": [
    {
     "data": {
      "image/png": "[encoded data removed]",
      "text/plain": [
       "<Figure size 1440x360 with 1 Axes>"
      ]
     },
     "metadata": {
      "needs_background": "light"
     },
     "output_type": "display_data"
    }
   ],
   "source": [
    "plt.figure(figsize = (20,5))\n",
    "sns.boxplot(model_data['Travel_time'])\n",
    "plt.show()\n",
    "\n"
   ]
  },
  {
   "cell_type": "code",
   "execution_count": 19,
   "metadata": {},
   "outputs": [
    {
     "data": {
      "text/plain": [
       "count    6.865069e+06\n",
       "mean     1.392982e+01\n",
       "std      1.059709e+01\n",
       "min      0.000000e+00\n",
       "25%      6.000000e+00\n",
       "50%      1.100000e+01\n",
       "75%      1.800000e+01\n",
       "max      5.900000e+01\n",
       "Name: Travel_time, dtype: float64"
      ]
     },
     "execution_count": 19,
     "metadata": {},
     "output_type": "execute_result"
    }
   ],
   "source": [
    "model_data['Travel_time'].describe()\n"
   ]
  },
  {
   "cell_type": "code",
   "execution_count": 20,
   "metadata": {},
   "outputs": [],
   "source": [
    "model_data = model_data[model_data.Travel_time > 0]\n",
    "\n",
    "# We observe that there are outliers, we will remove them\n",
    "\n",
    "model_data = model_data[model_data.Travel_time < 34]\n",
    "\n"
   ]
  },
  {
   "cell_type": "code",
   "execution_count": null,
   "metadata": {},
   "outputs": [],
   "source": []
  },
  {
   "cell_type": "code",
   "execution_count": 21,
   "metadata": {},
   "outputs": [],
   "source": [
    "#from sklearn.model_selection import train_test_split"
   ]
  },
  {
   "cell_type": "code",
   "execution_count": null,
   "metadata": {},
   "outputs": [],
   "source": [
    "\n"
   ]
  },
  {
   "cell_type": "code",
   "execution_count": 22,
   "metadata": {},
   "outputs": [
    {
     "data": {
      "image/png": "[encoded data removed]",
      "text/plain": [
       "<Figure size 432x288 with 1 Axes>"
      ]
     },
     "metadata": {
      "needs_background": "light"
     },
     "output_type": "display_data"
    }
   ],
   "source": [
    "%matplotlib inline\n",
    "model_data['Day'].value_counts().plot(kind='bar')\n",
    "plt.yscale('log')\n",
    "plt.show()\n",
    "\n",
    "# Most of the travel is during Saturday and least on Monday. "
   ]
  },
  {
   "cell_type": "code",
   "execution_count": 23,
   "metadata": {},
   "outputs": [
    {
     "data": {
      "image/png": "[encoded data removed]",
      "text/plain": [
       "<Figure size 432x288 with 1 Axes>"
      ]
     },
     "metadata": {
      "needs_background": "light"
     },
     "output_type": "display_data"
    }
   ],
   "source": [
    "%matplotlib inline\n",
    "model_data['HourofDay'].value_counts().plot(kind='bar')\n",
    "plt.yscale('log')\n",
    "plt.show()\n",
    "\n",
    "# We observe that the travel time during early morning hours is the least and evening hours is where the time taken is very high and also during AfterNoon Hours"
   ]
  },
  {
   "cell_type": "code",
   "execution_count": 24,
   "metadata": {},
   "outputs": [
    {
     "data": {
      "image/png": "[encoded data removed]",
      "text/plain": [
       "<Figure size 432x288 with 1 Axes>"
      ]
     },
     "metadata": {
      "needs_background": "light"
     },
     "output_type": "display_data"
    }
   ],
   "source": [
    "nbins=50\n",
    "nbins,plt.hist(model_data['fare_amount'],nbins,facecolor='blue')\n",
    "plt.show()"
   ]
  },
  {
   "cell_type": "code",
   "execution_count": 25,
   "metadata": {},
   "outputs": [
    {
     "data": {
      "text/plain": [
       "count    6.406656e+06\n",
       "mean     1.171849e+01\n",
       "std      9.834603e+00\n",
       "min      1.000000e-02\n",
       "25%      6.500000e+00\n",
       "50%      9.000000e+00\n",
       "75%      1.350000e+01\n",
       "max      9.022000e+03\n",
       "Name: fare_amount, dtype: float64"
      ]
     },
     "execution_count": 25,
     "metadata": {},
     "output_type": "execute_result"
    }
   ],
   "source": [
    "model_data['fare_amount'].describe()\n",
    "\n"
   ]
  },
  {
   "cell_type": "code",
   "execution_count": 26,
   "metadata": {},
   "outputs": [],
   "source": [
    "# We see there are negative amount and also amount as big as 9000 which definitely is an outlier. we will remove them\n",
    "\n",
    "model_data = model_data[model_data.fare_amount >= 1]\n",
    "\n",
    "model_data = model_data[model_data.fare_amount <= 20]"
   ]
  },
  {
   "cell_type": "code",
   "execution_count": 27,
   "metadata": {},
   "outputs": [
    {
     "data": {
      "text/plain": [
       "(5770850, 5)"
      ]
     },
     "execution_count": 27,
     "metadata": {},
     "output_type": "execute_result"
    }
   ],
   "source": [
    "model_data.shape"
   ]
  },
  {
   "cell_type": "code",
   "execution_count": 28,
   "metadata": {},
   "outputs": [
    {
     "data": {
      "image/png": "[encoded data removed]",
      "text/plain": [
       "<Figure size 1440x360 with 1 Axes>"
      ]
     },
     "metadata": {
      "needs_background": "light"
     },
     "output_type": "display_data"
    }
   ],
   "source": [
    "plt.figure(figsize = (20,5))\n",
    "sns.boxplot(model_data['fare_amount'])\n",
    "plt.show()\n",
    "\n",
    "# Observation: Most"
   ]
  },
  {
   "cell_type": "code",
   "execution_count": 29,
   "metadata": {},
   "outputs": [
    {
     "data": {
      "text/plain": [
       "trip_distance    float64\n",
       "fare_amount      float64\n",
       "Travel_time         int8\n",
       "Day               object\n",
       "HourofDay         object\n",
       "dtype: object"
      ]
     },
     "execution_count": 29,
     "metadata": {},
     "output_type": "execute_result"
    }
   ],
   "source": [
    "model_data.dtypes"
   ]
  },
  {
   "cell_type": "code",
   "execution_count": 30,
   "metadata": {},
   "outputs": [],
   "source": [
    "corr_mat=model_data.select_dtypes(['float', 'int8']).corr()\n",
    "#mask = np.zeros_like(corr_mat, dtype=np.bool)\n",
    "#mask[np.triu_indices_from(mask)] = True\n",
    "#f, ax = plt.subplots(figsize=(11, 9))\n",
    "#cmap = sns.diverging_palette(220, 10, as_cmap=True,center=\"light\")\n",
    "#sns.heatmap(corr_mat, mask=mask, cmap=cmap, vmax=1,vmin=-1, center=0,square=True, linewidths=.5, cbar_kws={\"shrink\": .5})"
   ]
  },
  {
   "cell_type": "code",
   "execution_count": 31,
   "metadata": {},
   "outputs": [
    {
     "data": {
      "text/html": [
       "<div>\n",
       "<style scoped>\n",
       "    .dataframe tbody tr th:only-of-type {\n",
       "        vertical-align: middle;\n",
       "    }\n",
       "\n",
       "    .dataframe tbody tr th {\n",
       "        vertical-align: top;\n",
       "    }\n",
       "\n",
       "    .dataframe thead th {\n",
       "        text-align: right;\n",
       "    }\n",
       "</style>\n",
       "<table border=\"1\" class=\"dataframe\">\n",
       "  <thead>\n",
       "    <tr style=\"text-align: right;\">\n",
       "      <th></th>\n",
       "      <th>trip_distance</th>\n",
       "      <th>fare_amount</th>\n",
       "      <th>Travel_time</th>\n",
       "    </tr>\n",
       "  </thead>\n",
       "  <tbody>\n",
       "    <tr>\n",
       "      <th>trip_distance</th>\n",
       "      <td>1.000000</td>\n",
       "      <td>0.871092</td>\n",
       "      <td>0.656211</td>\n",
       "    </tr>\n",
       "    <tr>\n",
       "      <th>fare_amount</th>\n",
       "      <td>0.871092</td>\n",
       "      <td>1.000000</td>\n",
       "      <td>0.932197</td>\n",
       "    </tr>\n",
       "    <tr>\n",
       "      <th>Travel_time</th>\n",
       "      <td>0.656211</td>\n",
       "      <td>0.932197</td>\n",
       "      <td>1.000000</td>\n",
       "    </tr>\n",
       "  </tbody>\n",
       "</table>\n",
       "</div>"
      ],
      "text/plain": [
       "               trip_distance  fare_amount  Travel_time\n",
       "trip_distance       1.000000     0.871092     0.656211\n",
       "fare_amount         0.871092     1.000000     0.932197\n",
       "Travel_time         0.656211     0.932197     1.000000"
      ]
     },
     "execution_count": 31,
     "metadata": {},
     "output_type": "execute_result"
    }
   ],
   "source": [
    "corr_mat"
   ]
  },
  {
   "cell_type": "code",
   "execution_count": 32,
   "metadata": {},
   "outputs": [],
   "source": [
    "# We see that there is a strong correlation between distance travelled, fare amount and Travel time. As is understood farther the distance more the fare, so we can remove\n",
    "# Amount as there exists a multicollinearity between then"
   ]
  },
  {
   "cell_type": "code",
   "execution_count": 33,
   "metadata": {},
   "outputs": [
    {
     "data": {
      "image/png": "[encoded data removed]",
      "text/plain": [
       "<Figure size 432x288 with 1 Axes>"
      ]
     },
     "metadata": {
      "needs_background": "light"
     },
     "output_type": "display_data"
    }
   ],
   "source": [
    "model_data.plot('trip_distance', 'Travel_time', kind = 'scatter', marker = 'o',alpha=.1);"
   ]
  },
  {
   "cell_type": "code",
   "execution_count": 34,
   "metadata": {},
   "outputs": [
    {
     "data": {
      "image/png": "[encoded data removed]",
      "text/plain": [
       "<Figure size 1152x576 with 1 Axes>"
      ]
     },
     "metadata": {
      "needs_background": "light"
     },
     "output_type": "display_data"
    }
   ],
   "source": [
    "var = 'Day'\n",
    "data = pd.concat([model_data['Travel_time'], model_data[var]], axis=1)\n",
    "f, ax = plt.subplots(figsize=(16, 8))\n",
    "fig = sns.boxplot(x=var, y=\"Travel_time\", data=model_data)\n",
    "#fig.axis(ymin=25000\n",
    ", ymax=1000000);\n",
    "ax.set_yscale('log')\n",
    "plt.xticks(rotation=90);"
   ]
  },
  {
   "cell_type": "code",
   "execution_count": 35,
   "metadata": {},
   "outputs": [
    {
     "data": {
      "image/png": "[encoded data removed]",
      "text/plain": [
       "<Figure size 1152x576 with 1 Axes>"
      ]
     },
     "metadata": {
      "needs_background": "light"
     },
     "output_type": "display_data"
    }
   ],
   "source": [
    "var = 'HourofDay'\n",
    "data = pd.concat([model_data['Travel_time'], model_data[var]], axis=1)\n",
    "f, ax = plt.subplots(figsize=(16, 8))\n",
    "fig = sns.boxplot(x=var, y=\"Travel_time\", data=model_data)\n",
    "#fig.axis(ymin=25000\n",
    ", ymax=1000000);\n",
    "ax.set_yscale('log')\n",
    "plt.xticks(rotation=90);"
   ]
  },
  {
   "cell_type": "code",
   "execution_count": 36,
   "metadata": {},
   "outputs": [
    {
     "data": {
      "text/html": [
       "<div>\n",
       "<style scoped>\n",
       "    .dataframe tbody tr th:only-of-type {\n",
       "        vertical-align: middle;\n",
       "    }\n",
       "\n",
       "    .dataframe tbody tr th {\n",
       "        vertical-align: top;\n",
       "    }\n",
       "\n",
       "    .dataframe thead th {\n",
       "        text-align: right;\n",
       "    }\n",
       "</style>\n",
       "<table border=\"1\" class=\"dataframe\">\n",
       "  <thead>\n",
       "    <tr style=\"text-align: right;\">\n",
       "      <th></th>\n",
       "      <th>trip_distance</th>\n",
       "      <th>fare_amount</th>\n",
       "      <th>Travel_time</th>\n",
       "      <th>Day</th>\n",
       "      <th>HourofDay</th>\n",
       "    </tr>\n",
       "  </thead>\n",
       "  <tbody>\n",
       "    <tr>\n",
       "      <th>2</th>\n",
       "      <td>4.4</td>\n",
       "      <td>17.5</td>\n",
       "      <td>19</td>\n",
       "      <td>Saturday</td>\n",
       "      <td>Night</td>\n",
       "    </tr>\n",
       "    <tr>\n",
       "      <th>4</th>\n",
       "      <td>1.7</td>\n",
       "      <td>9.5</td>\n",
       "      <td>12</td>\n",
       "      <td>Saturday</td>\n",
       "      <td>Night</td>\n",
       "    </tr>\n",
       "    <tr>\n",
       "      <th>5</th>\n",
       "      <td>1.6</td>\n",
       "      <td>9.5</td>\n",
       "      <td>10</td>\n",
       "      <td>Saturday</td>\n",
       "      <td>Night</td>\n",
       "    </tr>\n",
       "    <tr>\n",
       "      <th>6</th>\n",
       "      <td>0.6</td>\n",
       "      <td>4.5</td>\n",
       "      <td>4</td>\n",
       "      <td>Saturday</td>\n",
       "      <td>Night</td>\n",
       "    </tr>\n",
       "    <tr>\n",
       "      <th>7</th>\n",
       "      <td>1.2</td>\n",
       "      <td>7.5</td>\n",
       "      <td>8</td>\n",
       "      <td>Saturday</td>\n",
       "      <td>Night</td>\n",
       "    </tr>\n",
       "  </tbody>\n",
       "</table>\n",
       "</div>"
      ],
      "text/plain": [
       "   trip_distance  fare_amount  Travel_time       Day HourofDay\n",
       "2            4.4         17.5           19  Saturday     Night\n",
       "4            1.7          9.5           12  Saturday     Night\n",
       "5            1.6          9.5           10  Saturday     Night\n",
       "6            0.6          4.5            4  Saturday     Night\n",
       "7            1.2          7.5            8  Saturday     Night"
      ]
     },
     "execution_count": 36,
     "metadata": {},
     "output_type": "execute_result"
    }
   ],
   "source": [
    "model_data.head()"
   ]
  },
  {
   "cell_type": "code",
   "execution_count": 37,
   "metadata": {},
   "outputs": [],
   "source": [
    "# We will consider the below variables for our model based on our Exploratory data analysis\n",
    "# X - Variables\n",
    "# 1. Distance\n",
    "# 2. Day\n",
    "# 3. Hour of Day\n",
    "\n",
    "# Y- Variable\n",
    "# Travel_time"
   ]
  },
  {
   "cell_type": "code",
   "execution_count": 38,
   "metadata": {},
   "outputs": [
    {
     "data": {
      "text/html": [
       "<div>\n",
       "<style scoped>\n",
       "    .dataframe tbody tr th:only-of-type {\n",
       "        vertical-align: middle;\n",
       "    }\n",
       "\n",
       "    .dataframe tbody tr th {\n",
       "        vertical-align: top;\n",
       "    }\n",
       "\n",
       "    .dataframe thead th {\n",
       "        text-align: right;\n",
       "    }\n",
       "</style>\n",
       "<table border=\"1\" class=\"dataframe\">\n",
       "  <thead>\n",
       "    <tr style=\"text-align: right;\">\n",
       "      <th></th>\n",
       "      <th>trip_distance</th>\n",
       "      <th>Travel_time</th>\n",
       "      <th>Day</th>\n",
       "      <th>HourofDay</th>\n",
       "    </tr>\n",
       "  </thead>\n",
       "  <tbody>\n",
       "    <tr>\n",
       "      <th>2</th>\n",
       "      <td>4.4</td>\n",
       "      <td>19</td>\n",
       "      <td>Saturday</td>\n",
       "      <td>Night</td>\n",
       "    </tr>\n",
       "    <tr>\n",
       "      <th>4</th>\n",
       "      <td>1.7</td>\n",
       "      <td>12</td>\n",
       "      <td>Saturday</td>\n",
       "      <td>Night</td>\n",
       "    </tr>\n",
       "    <tr>\n",
       "      <th>5</th>\n",
       "      <td>1.6</td>\n",
       "      <td>10</td>\n",
       "      <td>Saturday</td>\n",
       "      <td>Night</td>\n",
       "    </tr>\n",
       "    <tr>\n",
       "      <th>6</th>\n",
       "      <td>0.6</td>\n",
       "      <td>4</td>\n",
       "      <td>Saturday</td>\n",
       "      <td>Night</td>\n",
       "    </tr>\n",
       "    <tr>\n",
       "      <th>7</th>\n",
       "      <td>1.2</td>\n",
       "      <td>8</td>\n",
       "      <td>Saturday</td>\n",
       "      <td>Night</td>\n",
       "    </tr>\n",
       "  </tbody>\n",
       "</table>\n",
       "</div>"
      ],
      "text/plain": [
       "   trip_distance  Travel_time       Day HourofDay\n",
       "2            4.4           19  Saturday     Night\n",
       "4            1.7           12  Saturday     Night\n",
       "5            1.6           10  Saturday     Night\n",
       "6            0.6            4  Saturday     Night\n",
       "7            1.2            8  Saturday     Night"
      ]
     },
     "execution_count": 38,
     "metadata": {},
     "output_type": "execute_result"
    }
   ],
   "source": [
    "model_data_final = model_data.copy()\n",
    "cols = [0,2,3,4]\n",
    "\n",
    "model_data_final = model_data_final[model_data_final.columns[cols]]\n",
    "\n",
    "model_data_final.head()"
   ]
  },
  {
   "cell_type": "code",
   "execution_count": 39,
   "metadata": {},
   "outputs": [],
   "source": [
    "model_data_final_1 =pd.get_dummies(model_data_final, drop_first = True)"
   ]
  },
  {
   "cell_type": "code",
   "execution_count": 40,
   "metadata": {},
   "outputs": [
    {
     "data": {
      "text/html": [
       "<div>\n",
       "<style scoped>\n",
       "    .dataframe tbody tr th:only-of-type {\n",
       "        vertical-align: middle;\n",
       "    }\n",
       "\n",
       "    .dataframe tbody tr th {\n",
       "        vertical-align: top;\n",
       "    }\n",
       "\n",
       "    .dataframe thead th {\n",
       "        text-align: right;\n",
       "    }\n",
       "</style>\n",
       "<table border=\"1\" class=\"dataframe\">\n",
       "  <thead>\n",
       "    <tr style=\"text-align: right;\">\n",
       "      <th></th>\n",
       "      <th>trip_distance</th>\n",
       "      <th>Travel_time</th>\n",
       "      <th>Day_Monday</th>\n",
       "      <th>Day_Saturday</th>\n",
       "      <th>Day_Sunday</th>\n",
       "      <th>Day_Thursday</th>\n",
       "      <th>Day_Tuesday</th>\n",
       "      <th>Day_Wednesday</th>\n",
       "      <th>HourofDay_Evening</th>\n",
       "      <th>HourofDay_Morning</th>\n",
       "      <th>HourofDay_Night</th>\n",
       "      <th>HourofDay_Noon</th>\n",
       "    </tr>\n",
       "  </thead>\n",
       "  <tbody>\n",
       "    <tr>\n",
       "      <th>2</th>\n",
       "      <td>4.4</td>\n",
       "      <td>19</td>\n",
       "      <td>0</td>\n",
       "      <td>1</td>\n",
       "      <td>0</td>\n",
       "      <td>0</td>\n",
       "      <td>0</td>\n",
       "      <td>0</td>\n",
       "      <td>0</td>\n",
       "      <td>0</td>\n",
       "      <td>1</td>\n",
       "      <td>0</td>\n",
       "    </tr>\n",
       "    <tr>\n",
       "      <th>4</th>\n",
       "      <td>1.7</td>\n",
       "      <td>12</td>\n",
       "      <td>0</td>\n",
       "      <td>1</td>\n",
       "      <td>0</td>\n",
       "      <td>0</td>\n",
       "      <td>0</td>\n",
       "      <td>0</td>\n",
       "      <td>0</td>\n",
       "      <td>0</td>\n",
       "      <td>1</td>\n",
       "      <td>0</td>\n",
       "    </tr>\n",
       "    <tr>\n",
       "      <th>5</th>\n",
       "      <td>1.6</td>\n",
       "      <td>10</td>\n",
       "      <td>0</td>\n",
       "      <td>1</td>\n",
       "      <td>0</td>\n",
       "      <td>0</td>\n",
       "      <td>0</td>\n",
       "      <td>0</td>\n",
       "      <td>0</td>\n",
       "      <td>0</td>\n",
       "      <td>1</td>\n",
       "      <td>0</td>\n",
       "    </tr>\n",
       "    <tr>\n",
       "      <th>6</th>\n",
       "      <td>0.6</td>\n",
       "      <td>4</td>\n",
       "      <td>0</td>\n",
       "      <td>1</td>\n",
       "      <td>0</td>\n",
       "      <td>0</td>\n",
       "      <td>0</td>\n",
       "      <td>0</td>\n",
       "      <td>0</td>\n",
       "      <td>0</td>\n",
       "      <td>1</td>\n",
       "      <td>0</td>\n",
       "    </tr>\n",
       "    <tr>\n",
       "      <th>7</th>\n",
       "      <td>1.2</td>\n",
       "      <td>8</td>\n",
       "      <td>0</td>\n",
       "      <td>1</td>\n",
       "      <td>0</td>\n",
       "      <td>0</td>\n",
       "      <td>0</td>\n",
       "      <td>0</td>\n",
       "      <td>0</td>\n",
       "      <td>0</td>\n",
       "      <td>1</td>\n",
       "      <td>0</td>\n",
       "    </tr>\n",
       "  </tbody>\n",
       "</table>\n",
       "</div>"
      ],
      "text/plain": [
       "   trip_distance  Travel_time  Day_Monday  Day_Saturday  Day_Sunday  \\\n",
       "2            4.4           19           0             1           0   \n",
       "4            1.7           12           0             1           0   \n",
       "5            1.6           10           0             1           0   \n",
       "6            0.6            4           0             1           0   \n",
       "7            1.2            8           0             1           0   \n",
       "\n",
       "   Day_Thursday  Day_Tuesday  Day_Wednesday  HourofDay_Evening  \\\n",
       "2             0            0              0                  0   \n",
       "4             0            0              0                  0   \n",
       "5             0            0              0                  0   \n",
       "6             0            0              0                  0   \n",
       "7             0            0              0                  0   \n",
       "\n",
       "   HourofDay_Morning  HourofDay_Night  HourofDay_Noon  \n",
       "2                  0                1               0  \n",
       "4                  0                1               0  \n",
       "5                  0                1               0  \n",
       "6                  0                1               0  \n",
       "7                  0                1               0  "
      ]
     },
     "execution_count": 40,
     "metadata": {},
     "output_type": "execute_result"
    }
   ],
   "source": [
    "model_data_final_1.head()"
   ]
  },
  {
   "cell_type": "code",
   "execution_count": 41,
   "metadata": {},
   "outputs": [
    {
     "name": "stdout",
     "output_type": "stream",
     "text": [
      "Train Data (4041171, 12) Test Data (1729679, 12)\n"
     ]
    }
   ],
   "source": [
    "# Split data into train and test\n",
    "\n",
    "ind = np.random.rand(len(model_data_final_1)) <= 0.7\n",
    "train = model_data_final_1[ind]\n",
    "test = model_data_final_1[~ind]\n",
    "\n",
    "print(\"Train Data\",train.shape, \"Test Data\",test.shape)\n",
    "\n"
   ]
  },
  {
   "cell_type": "code",
   "execution_count": 42,
   "metadata": {},
   "outputs": [
    {
     "data": {
      "text/html": [
       "<div>\n",
       "<style scoped>\n",
       "    .dataframe tbody tr th:only-of-type {\n",
       "        vertical-align: middle;\n",
       "    }\n",
       "\n",
       "    .dataframe tbody tr th {\n",
       "        vertical-align: top;\n",
       "    }\n",
       "\n",
       "    .dataframe thead th {\n",
       "        text-align: right;\n",
       "    }\n",
       "</style>\n",
       "<table border=\"1\" class=\"dataframe\">\n",
       "  <thead>\n",
       "    <tr style=\"text-align: right;\">\n",
       "      <th></th>\n",
       "      <th>trip_distance</th>\n",
       "      <th>Travel_time</th>\n",
       "      <th>Day_Monday</th>\n",
       "      <th>Day_Saturday</th>\n",
       "      <th>Day_Sunday</th>\n",
       "      <th>Day_Thursday</th>\n",
       "      <th>Day_Tuesday</th>\n",
       "      <th>Day_Wednesday</th>\n",
       "      <th>HourofDay_Evening</th>\n",
       "      <th>HourofDay_Morning</th>\n",
       "      <th>HourofDay_Night</th>\n",
       "      <th>HourofDay_Noon</th>\n",
       "    </tr>\n",
       "  </thead>\n",
       "  <tbody>\n",
       "    <tr>\n",
       "      <th>2</th>\n",
       "      <td>4.4</td>\n",
       "      <td>19</td>\n",
       "      <td>0</td>\n",
       "      <td>1</td>\n",
       "      <td>0</td>\n",
       "      <td>0</td>\n",
       "      <td>0</td>\n",
       "      <td>0</td>\n",
       "      <td>0</td>\n",
       "      <td>0</td>\n",
       "      <td>1</td>\n",
       "      <td>0</td>\n",
       "    </tr>\n",
       "    <tr>\n",
       "      <th>4</th>\n",
       "      <td>1.7</td>\n",
       "      <td>12</td>\n",
       "      <td>0</td>\n",
       "      <td>1</td>\n",
       "      <td>0</td>\n",
       "      <td>0</td>\n",
       "      <td>0</td>\n",
       "      <td>0</td>\n",
       "      <td>0</td>\n",
       "      <td>0</td>\n",
       "      <td>1</td>\n",
       "      <td>0</td>\n",
       "    </tr>\n",
       "    <tr>\n",
       "      <th>6</th>\n",
       "      <td>0.6</td>\n",
       "      <td>4</td>\n",
       "      <td>0</td>\n",
       "      <td>1</td>\n",
       "      <td>0</td>\n",
       "      <td>0</td>\n",
       "      <td>0</td>\n",
       "      <td>0</td>\n",
       "      <td>0</td>\n",
       "      <td>0</td>\n",
       "      <td>1</td>\n",
       "      <td>0</td>\n",
       "    </tr>\n",
       "    <tr>\n",
       "      <th>7</th>\n",
       "      <td>1.2</td>\n",
       "      <td>8</td>\n",
       "      <td>0</td>\n",
       "      <td>1</td>\n",
       "      <td>0</td>\n",
       "      <td>0</td>\n",
       "      <td>0</td>\n",
       "      <td>0</td>\n",
       "      <td>0</td>\n",
       "      <td>0</td>\n",
       "      <td>1</td>\n",
       "      <td>0</td>\n",
       "    </tr>\n",
       "    <tr>\n",
       "      <th>8</th>\n",
       "      <td>2.0</td>\n",
       "      <td>15</td>\n",
       "      <td>0</td>\n",
       "      <td>1</td>\n",
       "      <td>0</td>\n",
       "      <td>0</td>\n",
       "      <td>0</td>\n",
       "      <td>0</td>\n",
       "      <td>0</td>\n",
       "      <td>0</td>\n",
       "      <td>1</td>\n",
       "      <td>0</td>\n",
       "    </tr>\n",
       "  </tbody>\n",
       "</table>\n",
       "</div>"
      ],
      "text/plain": [
       "   trip_distance  Travel_time  Day_Monday  Day_Saturday  Day_Sunday  \\\n",
       "2            4.4           19           0             1           0   \n",
       "4            1.7           12           0             1           0   \n",
       "6            0.6            4           0             1           0   \n",
       "7            1.2            8           0             1           0   \n",
       "8            2.0           15           0             1           0   \n",
       "\n",
       "   Day_Thursday  Day_Tuesday  Day_Wednesday  HourofDay_Evening  \\\n",
       "2             0            0              0                  0   \n",
       "4             0            0              0                  0   \n",
       "6             0            0              0                  0   \n",
       "7             0            0              0                  0   \n",
       "8             0            0              0                  0   \n",
       "\n",
       "   HourofDay_Morning  HourofDay_Night  HourofDay_Noon  \n",
       "2                  0                1               0  \n",
       "4                  0                1               0  \n",
       "6                  0                1               0  \n",
       "7                  0                1               0  \n",
       "8                  0                1               0  "
      ]
     },
     "execution_count": 42,
     "metadata": {},
     "output_type": "execute_result"
    }
   ],
   "source": [
    "train.head()"
   ]
  },
  {
   "cell_type": "code",
   "execution_count": 43,
   "metadata": {},
   "outputs": [],
   "source": [
    "X_train = train.copy()\n",
    "X_train.drop(['Travel_time'],axis = 1, inplace = True)\n",
    "#X_train = X_train[:,-2]\n",
    "Y_train = train.copy()\n",
    "Y_train = Y_train.loc[:,'Travel_time']"
   ]
  },
  {
   "cell_type": "code",
   "execution_count": 44,
   "metadata": {},
   "outputs": [],
   "source": [
    "X_test = test.copy()\n",
    "X_test.drop(['Travel_time'],axis = 1, inplace = True)\n",
    "Y_test = test.copy()\n",
    "Y_test = Y_test.loc[:,'Travel_time']"
   ]
  },
  {
   "cell_type": "code",
   "execution_count": 45,
   "metadata": {},
   "outputs": [],
   "source": [
    "X_train = X_train.values\n",
    "Y_test = Y_test.values"
   ]
  },
  {
   "cell_type": "code",
   "execution_count": 46,
   "metadata": {},
   "outputs": [],
   "source": [
    "# We will perform simulation with some data\n",
    "\n",
    "# Get the pdf of the exponential distribution - Travel time\n",
    "expon_pdf = lambda y,mu : mu * np.exp(-mu * y)"
   ]
  },
  {
   "cell_type": "code",
   "execution_count": 47,
   "metadata": {},
   "outputs": [],
   "source": [
    "# Simulation Function Module\n",
    "def perform_simulation(mu,travel_time):\n",
    "    \n",
    "    for m in mu:\n",
    "        distribution = []\n",
    "        for y in travel_time:\n",
    "            distribution.append(expon_pdf(y,m))\n",
    "        ax.plot(travel_time, \n",
    "                distribution, \n",
    "                label=f'$\\mu$={mu}',\n",
    "                alpha = 0.5, \n",
    "                marker = 'o', \n",
    "                markersize = 5)\n",
    "    ax.grid()\n",
    "    ax.set_xlabel('$y$', fontsize = 10)\n",
    "    ax.set_ylabel('$f(y\\mid \\mu)$', fontsize = 10)\n",
    "    ax.axis(xmin=0, ymin = 0)\n",
    "    ax.legend(fontsize = 10)\n",
    "    \n",
    "    plt.show()"
   ]
  },
  {
   "cell_type": "code",
   "execution_count": 48,
   "metadata": {},
   "outputs": [
    {
     "data": {
      "image/png": "[encoded data removed]",
      "text/plain": [
       "<Figure size 864x576 with 1 Axes>"
      ]
     },
     "metadata": {
      "needs_background": "light"
     },
     "output_type": "display_data"
    }
   ],
   "source": [
    "# Perform simulation with 1000 records\n",
    "#cols = \n",
    "fig, ax = plt.subplots(figsize = (12,8))\n",
    "k = np.array([0.1,0.2, 0.1, 0.1,0.1,0.1,0.1,0.1,0.1,0.1, 0.1])\n",
    "# Lets take only 5 lambda values\n",
    "sim_x = X_train[1:5]\n",
    "sim_y = Y_train[1:1000]\n",
    "for x in sim_x:\n",
    "    #mu = np.exp(x @ k)\n",
    "    mu = np.sum(x @ k)\n",
    "    distribution = []\n",
    "    for y_i in sim_y:\n",
    "        distribution.append(expon_pdf(y_i,mu))\n",
    "    ax.plot(sim_y, \n",
    "                distribution, \n",
    "                label=f'$\\mu$={mu}',\n",
    "                alpha = 0.5, \n",
    "                marker = 'o', \n",
    "                markersize = 5)\n",
    "ax.grid()\n",
    "ax.set_xlabel('$y$', fontsize = 10)\n",
    "ax.set_ylabel('$f(y\\mid \\mu)$', fontsize = 10)\n",
    "ax.axis(xmin=0, ymin = 0)\n",
    "ax.legend(fontsize = 10)\n",
    "    \n",
    "plt.show()    "
   ]
  },
  {
   "cell_type": "code",
   "execution_count": 49,
   "metadata": {},
   "outputs": [],
   "source": [
    "# Parameter Estimation using Maximum Likelihood\n",
    "\n",
    "# For a exponential distribution the MLE = \n"
   ]
  },
  {
   "cell_type": "code",
   "execution_count": 50,
   "metadata": {},
   "outputs": [],
   "source": [
    "def mle(index):\n",
    "    parameter = 1/np.mean(X_train[:,index] * Y_train)\n",
    "    return parameter\n",
    "    "
   ]
  },
  {
   "cell_type": "code",
   "execution_count": 51,
   "metadata": {},
   "outputs": [],
   "source": [
    "# Get the Parameters using Maximum Likelihood\n",
    "nvar = 11\n",
    "k = np.zeros(nvar)\n",
    "\n",
    "\n",
    "it = np.nditer(k, flags=['f_index'])\n",
    "while not it.finished:\n",
    "      #print(\"%d <%d>\" % (it[0], it.index), end=\" \")\n",
    "       #print(it.index)\n",
    "       k[it.index] = mle(it.index)\n",
    "       it.iternext()\n",
    "    \n",
    "\n"
   ]
  },
  {
   "cell_type": "code",
   "execution_count": 52,
   "metadata": {},
   "outputs": [
    {
     "data": {
      "text/plain": [
       "array([0.04223907, 0.74724966, 0.58081461, 0.76731979, 0.5857993 ,\n",
       "       0.65653881, 0.60692687, 0.31019854, 0.46223555, 0.5992593 ,\n",
       "       0.32823525])"
      ]
     },
     "execution_count": 52,
     "metadata": {},
     "output_type": "execute_result"
    }
   ],
   "source": [
    "k"
   ]
  },
  {
   "cell_type": "code",
   "execution_count": 53,
   "metadata": {},
   "outputs": [],
   "source": [
    "yPred = np.exp( 0.09 + X_test @ k)"
   ]
  },
  {
   "cell_type": "code",
   "execution_count": 54,
   "metadata": {},
   "outputs": [
    {
     "data": {
      "text/plain": [
       "0.09254688769467258"
      ]
     },
     "execution_count": 54,
     "metadata": {},
     "output_type": "execute_result"
    }
   ],
   "source": [
    "k0 = 1/np.mean(Y_train)\n",
    "k0"
   ]
  },
  {
   "cell_type": "code",
   "execution_count": 55,
   "metadata": {},
   "outputs": [
    {
     "data": {
      "text/plain": [
       "9.94294445434324"
      ]
     },
     "execution_count": 55,
     "metadata": {},
     "output_type": "execute_result"
    }
   ],
   "source": [
    "from sklearn.metrics import mean_squared_error\n",
    "from math import sqrt\n",
    "\n",
    "rms = sqrt(mean_squared_error(Y_test,yPred))\n",
    "rms"
   ]
  },
  {
   "cell_type": "code",
   "execution_count": 56,
   "metadata": {},
   "outputs": [],
   "source": [
    "from sklearn.preprocessing import StandardScaler\n",
    "# Try using scaled value\n",
    "scaler = StandardScaler()\n",
    "\n",
    "X_scaled = scaler.fit_transform(model_data_final_1)\n",
    "#X_test_scaled =  scaler.fit_transform(X_test)"
   ]
  },
  {
   "cell_type": "code",
   "execution_count": 57,
   "metadata": {},
   "outputs": [
    {
     "name": "stdout",
     "output_type": "stream",
     "text": [
      "Train Data (4037675, 12) Test Data (1733175, 12)\n"
     ]
    }
   ],
   "source": [
    "# Split data into train and test\n",
    "\n",
    "ind = np.random.rand(len(X_scaled)) <= 0.7\n",
    "train = X_scaled[ind]\n",
    "test = X_scaled[~ind]\n",
    "\n",
    "print(\"Train Data\",train.shape, \"Test Data\",test.shape)"
   ]
  },
  {
   "cell_type": "code",
   "execution_count": 58,
   "metadata": {},
   "outputs": [
    {
     "data": {
      "text/plain": [
       "array([ 1.29914136,  0.18931369, -0.12777994, ..., -0.76196718,\n",
       "       -0.60342037, -0.92051399])"
      ]
     },
     "execution_count": 58,
     "metadata": {},
     "output_type": "execute_result"
    }
   ],
   "source": [
    "Y_train = train[:,1]\n",
    "Y_train"
   ]
  },
  {
   "cell_type": "code",
   "execution_count": 59,
   "metadata": {},
   "outputs": [
    {
     "data": {
      "text/plain": [
       "array([[ 2.32382441, -0.38072531,  2.23140822, ..., -0.48752516,\n",
       "         2.23663634, -0.5968774 ],\n",
       "       [-0.04867853, -0.38072531,  2.23140822, ..., -0.48752516,\n",
       "         2.23663634, -0.5968774 ],\n",
       "       [-0.13654901, -0.38072531,  2.23140822, ..., -0.48752516,\n",
       "         2.23663634, -0.5968774 ],\n",
       "       ...,\n",
       "       [-1.10312428, -0.38072531, -0.44814749, ..., -0.48752516,\n",
       "         2.23663634, -0.5968774 ],\n",
       "       [-0.32986406, -0.38072531, -0.44814749, ..., -0.48752516,\n",
       "         2.23663634, -0.5968774 ],\n",
       "       [ 0.01283081, -0.38072531, -0.44814749, ..., -0.48752516,\n",
       "         2.23663634, -0.5968774 ]])"
      ]
     },
     "execution_count": 59,
     "metadata": {},
     "output_type": "execute_result"
    }
   ],
   "source": [
    "X_train = np.delete(train,1,1)\n",
    "X_train\n",
    "#Given its name, I think the standard way should be delete:\n",
    "\n",
    "#import numpy as np\n",
    "\n",
    "#A = np.delete(A, 1, 0)  # delete second row of A\n",
    "#B = np.delete(B, 2, 0)  # delete third row of B\n",
    "#C = np.delete(C, 1, 1)"
   ]
  },
  {
   "cell_type": "code",
   "execution_count": 60,
   "metadata": {},
   "outputs": [],
   "source": [
    "def mle_scaled(index):\n",
    "    parameter = 1/np.mean(X_train[:,index] * Y_train)\n",
    "    return parameter"
   ]
  },
  {
   "cell_type": "code",
   "execution_count": 61,
   "metadata": {},
   "outputs": [
    {
     "data": {
      "text/plain": [
       "array([  1.52408513, -74.2331068 , -27.64247771, -13.95241994,\n",
       "        19.96298661,  79.66040569,  25.89852488,  88.04014369,\n",
       "        27.03759979, -17.82475708,  13.39872673])"
      ]
     },
     "execution_count": 61,
     "metadata": {},
     "output_type": "execute_result"
    }
   ],
   "source": [
    "# Get the Parameters using Maximum Likelihood\n",
    "nvar = 11\n",
    "k = np.zeros(nvar)\n",
    "\n",
    "\n",
    "it = np.nditer(k, flags=['f_index'])\n",
    "while not it.finished:\n",
    "      #print(\"%d <%d>\" % (it[0], it.index), end=\" \")\n",
    "       #print(it.index)\n",
    "       k[it.index] = mle_scaled(it.index)\n",
    "       it.iternext()\n",
    "k"
   ]
  },
  {
   "cell_type": "code",
   "execution_count": 62,
   "metadata": {},
   "outputs": [
    {
     "data": {
      "text/plain": [
       "(11,)"
      ]
     },
     "execution_count": 62,
     "metadata": {},
     "output_type": "execute_result"
    }
   ],
   "source": [
    "X_test = np.delete(test,1,1)\n",
    "X_test.shape\n",
    "k.shape"
   ]
  },
  {
   "cell_type": "code",
   "execution_count": null,
   "metadata": {},
   "outputs": [],
   "source": []
  },
  {
   "cell_type": "code",
   "execution_count": 63,
   "metadata": {},
   "outputs": [
    {
     "data": {
      "text/plain": [
       "array([ 0.82350093, -0.76196718,  0.66495412, ...,  0.66495412,\n",
       "        0.82350093, -1.39615442])"
      ]
     },
     "execution_count": 63,
     "metadata": {},
     "output_type": "execute_result"
    }
   ],
   "source": [
    "Y_test = test[:,1]\n",
    "Y_test"
   ]
  },
  {
   "cell_type": "code",
   "execution_count": 64,
   "metadata": {},
   "outputs": [],
   "source": [
    "yPred = np.exp(X_test @ k)"
   ]
  },
  {
   "cell_type": "code",
   "execution_count": 65,
   "metadata": {},
   "outputs": [
    {
     "data": {
      "text/plain": [
       "array([3.35118122e-84, 1.05742126e-86, 1.31240096e-84, ...,\n",
       "       2.41838333e-72, 2.76494671e-72, 1.08281781e-72])"
      ]
     },
     "execution_count": 65,
     "metadata": {},
     "output_type": "execute_result"
    }
   ],
   "source": [
    "yPred"
   ]
  },
  {
   "cell_type": "code",
   "execution_count": null,
   "metadata": {},
   "outputs": [],
   "source": []
  },
  {
   "cell_type": "code",
   "execution_count": 66,
   "metadata": {},
   "outputs": [
    {
     "data": {
      "text/plain": [
       "inf"
      ]
     },
     "execution_count": 66,
     "metadata": {},
     "output_type": "execute_result"
    }
   ],
   "source": [
    "rms = sqrt(mean_squared_error(Y_test,yPred))\n",
    "rms"
   ]
  }
 ],
 "metadata": {
  "kernelspec": {
   "display_name": "Python 3",
   "language": "python",
   "name": "python3"
  },
  "language_info": {
   "codemirror_mode": {
    "name": "ipython",
    "version": 3
   },
   "file_extension": ".py",
   "mimetype": "text/x-python",
   "name": "python",
   "nbconvert_exporter": "python",
   "pygments_lexer": "ipython3",
   "version": "3.6.6"
  }
 },
 "nbformat": 4,
 "nbformat_minor": 1
}
